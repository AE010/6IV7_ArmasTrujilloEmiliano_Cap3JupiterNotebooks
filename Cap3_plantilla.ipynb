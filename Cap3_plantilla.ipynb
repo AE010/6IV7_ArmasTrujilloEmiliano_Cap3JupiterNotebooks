{
 "cells": [
  {
   "cell_type": "markdown",
   "id": "9d85069a",
   "metadata": {},
   "source": [
    "# Capitulo 3. Clasificación"
   ]
  },
  {
   "cell_type": "markdown",
   "id": "f28483b2",
   "metadata": {},
   "source": [
    "Proyecto de clasificación, para diagnosticar medicamenttos basándose en las caracteristicas de los pacientes."
   ]
  },
  {
   "cell_type": "markdown",
   "id": "0f1b7738",
   "metadata": {},
   "source": [
    "## <span style=\"color:green\">1. Descargar los datos 📉</span>\n",
    "\n",
    "EN ESTE PROYECTO SOLO VAMOS A NECESITAR LA BASE DE DATOS drug300.csv.💊\n",
    "\n",
    "https://github.com/a2Proyectos/MachineLearning_Data\n",
    "\n"
   ]
  },
  {
   "cell_type": "code",
   "execution_count": 19,
   "id": "9778512d",
   "metadata": {},
   "outputs": [],
   "source": [
    "# Importa las librerias <3 \n",
    "import pandas as pd\n",
    "import seaborn as sns\n",
    "import matplotlib.pyplot as plt\n",
    "import numpy as np\n"
   ]
  },
  {
   "cell_type": "code",
   "execution_count": 20,
   "id": "9602a08f",
   "metadata": {},
   "outputs": [],
   "source": [
    "## Define una función para extraer los datos\n",
    "#DOWNLOAD_ROOT es la base del GitHub donde vamos a estar descargando las bases de datos.\n",
    "\n",
    "#Complementos con la dirección especifica de la base de datos que queremos.\n",
    "df = pd.read_csv(\"drug200.csv\")\n"
   ]
  },
  {
   "cell_type": "code",
   "execution_count": 21,
   "id": "72270dd6",
   "metadata": {},
   "outputs": [
    {
     "data": {
      "text/html": [
       "<div>\n",
       "<style scoped>\n",
       "    .dataframe tbody tr th:only-of-type {\n",
       "        vertical-align: middle;\n",
       "    }\n",
       "\n",
       "    .dataframe tbody tr th {\n",
       "        vertical-align: top;\n",
       "    }\n",
       "\n",
       "    .dataframe thead th {\n",
       "        text-align: right;\n",
       "    }\n",
       "</style>\n",
       "<table border=\"1\" class=\"dataframe\">\n",
       "  <thead>\n",
       "    <tr style=\"text-align: right;\">\n",
       "      <th></th>\n",
       "      <th>Age</th>\n",
       "      <th>Sex</th>\n",
       "      <th>BP</th>\n",
       "      <th>Cholesterol</th>\n",
       "      <th>Na_to_K</th>\n",
       "      <th>Drug</th>\n",
       "    </tr>\n",
       "  </thead>\n",
       "  <tbody>\n",
       "    <tr>\n",
       "      <th>0</th>\n",
       "      <td>23</td>\n",
       "      <td>F</td>\n",
       "      <td>HIGH</td>\n",
       "      <td>HIGH</td>\n",
       "      <td>25.355</td>\n",
       "      <td>DrugY</td>\n",
       "    </tr>\n",
       "    <tr>\n",
       "      <th>1</th>\n",
       "      <td>47</td>\n",
       "      <td>M</td>\n",
       "      <td>LOW</td>\n",
       "      <td>HIGH</td>\n",
       "      <td>13.093</td>\n",
       "      <td>drugC</td>\n",
       "    </tr>\n",
       "    <tr>\n",
       "      <th>2</th>\n",
       "      <td>47</td>\n",
       "      <td>M</td>\n",
       "      <td>LOW</td>\n",
       "      <td>HIGH</td>\n",
       "      <td>10.114</td>\n",
       "      <td>drugC</td>\n",
       "    </tr>\n",
       "    <tr>\n",
       "      <th>3</th>\n",
       "      <td>28</td>\n",
       "      <td>F</td>\n",
       "      <td>NORMAL</td>\n",
       "      <td>HIGH</td>\n",
       "      <td>7.798</td>\n",
       "      <td>drugX</td>\n",
       "    </tr>\n",
       "    <tr>\n",
       "      <th>4</th>\n",
       "      <td>61</td>\n",
       "      <td>F</td>\n",
       "      <td>LOW</td>\n",
       "      <td>HIGH</td>\n",
       "      <td>18.043</td>\n",
       "      <td>DrugY</td>\n",
       "    </tr>\n",
       "  </tbody>\n",
       "</table>\n",
       "</div>"
      ],
      "text/plain": [
       "   Age Sex      BP Cholesterol  Na_to_K   Drug\n",
       "0   23   F    HIGH        HIGH   25.355  DrugY\n",
       "1   47   M     LOW        HIGH   13.093  drugC\n",
       "2   47   M     LOW        HIGH   10.114  drugC\n",
       "3   28   F  NORMAL        HIGH    7.798  drugX\n",
       "4   61   F     LOW        HIGH   18.043  DrugY"
      ]
     },
     "execution_count": 21,
     "metadata": {},
     "output_type": "execute_result"
    }
   ],
   "source": [
    "# Visualiza el DataFrame\n",
    "df.head()\n"
   ]
  },
  {
   "cell_type": "code",
   "execution_count": 43,
   "id": "170ce4ae",
   "metadata": {},
   "outputs": [
    {
     "name": "stdout",
     "output_type": "stream",
     "text": [
      "<class 'pandas.core.frame.DataFrame'>\n",
      "RangeIndex: 200 entries, 0 to 199\n",
      "Data columns (total 6 columns):\n",
      " #   Column       Non-Null Count  Dtype  \n",
      "---  ------       --------------  -----  \n",
      " 0   Age          200 non-null    int64  \n",
      " 1   Sex          200 non-null    object \n",
      " 2   BP           200 non-null    object \n",
      " 3   Cholesterol  200 non-null    object \n",
      " 4   Na_to_K      200 non-null    float64\n",
      " 5   Drug         200 non-null    object \n",
      "dtypes: float64(1), int64(1), object(4)\n",
      "memory usage: 9.5+ KB\n"
     ]
    }
   ],
   "source": [
    "# Obten información de los datos.\n",
    "data.info()\n"
   ]
  },
  {
   "cell_type": "markdown",
   "id": "39f196f8-d5d5-466e-857b-fbde89d224f5",
   "metadata": {},
   "source": [
    "## <span style=\"color:green\">2. Análisis de cada Variable</span>"
   ]
  },
  {
   "cell_type": "code",
   "execution_count": 51,
   "id": "08e75eb2",
   "metadata": {},
   "outputs": [
    {
     "data": {
      "image/png": "[encoded data removed]",
      "text/plain": [
       "<Figure size 900x500 with 1 Axes>"
      ]
     },
     "metadata": {},
     "output_type": "display_data"
    }
   ],
   "source": [
    "#Importa seaborn para tener gráficos más chidos \n",
    "\n",
    "#Gráfica la variable \n",
    "#Establece una área de figsize(9,5) es decir, el tamaño de la imagen\n",
    "\n",
    "#Crea un displot para de la edad (por ser una variable numérica)\n",
    "plt.figure(figsize=(9,5))\n",
    "sns.histplot(df[\"Age\"], kde=True)\n",
    "plt.title(\"Distribución de la Edad\")\n",
    "plt.xlabel(\"Edad\")\n",
    "plt.ylabel(\"Frecuencia\")\n",
    "plt.show()\n",
    "\n",
    "\n",
    "\n"
   ]
  },
  {
   "cell_type": "code",
   "execution_count": 24,
   "id": "6f180aa1",
   "metadata": {},
   "outputs": [
    {
     "name": "stdout",
     "output_type": "stream",
     "text": [
      "Sex\n",
      "M    104\n",
      "F     96\n",
      "Name: count, dtype: int64\n"
     ]
    }
   ],
   "source": [
    "# Género: cuenta cuántos hombres y mujeres hay\n",
    "print(df[\"Sex\"].value_counts())\n"
   ]
  },
  {
   "cell_type": "code",
   "execution_count": 52,
   "id": "cdc6b68f",
   "metadata": {},
   "outputs": [
    {
     "data": {
      "image/png": "[encoded data removed]",
      "text/plain": [
       "<Figure size 900x500 with 1 Axes>"
      ]
     },
     "metadata": {},
     "output_type": "display_data"
    }
   ],
   "source": [
    "# Crea una gráfica de barras para Presión Sanguinea\n",
    "plt.figure(figsize=(9,5))\n",
    "sns.countplot(data=df, x=\"BP\", hue=\"BP\")\n",
    "plt.title(\"Distribución de Presión Sanguínea (BP)\")\n",
    "plt.xlabel(\"Presión Sanguínea\")\n",
    "plt.ylabel(\"Cantidad\")\n",
    "plt.show()\n",
    "\n"
   ]
  },
  {
   "cell_type": "code",
   "execution_count": 53,
   "id": "7189311b",
   "metadata": {},
   "outputs": [
    {
     "data": {
      "image/png": "[encoded data removed]",
      "text/plain": [
       "<Figure size 900x500 with 1 Axes>"
      ]
     },
     "metadata": {},
     "output_type": "display_data"
    }
   ],
   "source": [
    "# Crea una gráfica de barras para Colesterol\n",
    "plt.figure(figsize=(9,5))\n",
    "sns.countplot(data=df, x=\"Cholesterol\", hue=\"Cholesterol\")\n",
    "plt.title(\"Distribución de Colesterol\")\n",
    "plt.xlabel(\"Colesterol\")\n",
    "plt.ylabel(\"Cantidad\")\n",
    "plt.show()\n",
    "\n"
   ]
  },
  {
   "cell_type": "code",
   "execution_count": 54,
   "id": "60bded5c",
   "metadata": {},
   "outputs": [
    {
     "data": {
      "image/png": "[encoded data removed]",
      "text/plain": [
       "<Figure size 900x500 with 1 Axes>"
      ]
     },
     "metadata": {},
     "output_type": "display_data"
    }
   ],
   "source": [
    "# Crea un displot para Sodio Potasio\n",
    "sns.displot(df.Na_to_K, kde=True, height=5, aspect=1.8)\n",
    "plt.title(\"Distribución de Sodio-Potasio\")\n",
    "plt.xlabel(\"Na_to_K\")\n",
    "plt.ylabel(\"Frecuencia\")\n",
    "plt.show()\n",
    "\n"
   ]
  },
  {
   "cell_type": "code",
   "execution_count": 55,
   "id": "49538c51",
   "metadata": {},
   "outputs": [
    {
     "data": {
      "image/png": "[encoded data removed]",
      "text/plain": [
       "<Figure size 900x500 with 1 Axes>"
      ]
     },
     "metadata": {},
     "output_type": "display_data"
    },
    {
     "data": {
      "text/plain": [
       "Drug\n",
       "DrugY    91\n",
       "drugX    54\n",
       "drugA    23\n",
       "drugC    16\n",
       "drugB    16\n",
       "Name: count, dtype: int64"
      ]
     },
     "execution_count": 55,
     "metadata": {},
     "output_type": "execute_result"
    }
   ],
   "source": [
    "# Crea una gráfica de barras para los Medicamentos (droga) 💊\n",
    "\n",
    "#Cuenta los medicamentos\n",
    "plt.figure(figsize=(9,5))\n",
    "sns.countplot(data=df, x=\"Drug\", hue=\"Drug\")\n",
    "plt.title(\"Distribución de Medicamentos\")\n",
    "plt.xlabel(\"Medicamento\")\n",
    "plt.ylabel(\"Cantidad\")\n",
    "plt.show()\n",
    "\n",
    "df.Drug.value_counts()"
   ]
  },
  {
   "cell_type": "markdown",
   "id": "1797db2e-0be1-45a9-9496-6f7ce3580db6",
   "metadata": {},
   "source": [
    "***"
   ]
  },
  {
   "cell_type": "markdown",
   "id": "736b6587-e7a8-4000-b8d3-e1c74c4ad6a2",
   "metadata": {},
   "source": [
    "## <span style=\"color:green\">3. Análisis de Relación entre Variables</span>\n"
   ]
  },
  {
   "cell_type": "code",
   "execution_count": 56,
   "id": "b24725f4",
   "metadata": {},
   "outputs": [
    {
     "data": {
      "image/png": "[encoded data removed]",
      "text/plain": [
       "<Figure size 900x500 with 1 Axes>"
      ]
     },
     "metadata": {},
     "output_type": "display_data"
    }
   ],
   "source": [
    "## Grafica (con swarmplot) la relación entre la Edad y los Medicamentos que se les da acorde a 💊\n",
    "plt.figure(figsize=(9,5))\n",
    "sns.swarmplot(x=\"Drug\", y=\"Age\", data=df)\n",
    "plt.title(\"Edad / Medicamento\")\n",
    "plt.show()\n"
   ]
  },
  {
   "cell_type": "code",
   "execution_count": 58,
   "id": "b2233b26",
   "metadata": {},
   "outputs": [
    {
     "name": "stdout",
     "output_type": "stream",
     "text": [
      "    Drug Sex  Count\n",
      "0  DrugY   F     47\n",
      "1  DrugY   M     44\n",
      "2  drugA   F      9\n",
      "3  drugA   M     14\n",
      "4  drugB   F      6\n",
      "5  drugB   M     10\n",
      "6  drugC   F      7\n",
      "7  drugC   M      9\n",
      "8  drugX   F     27\n",
      "9  drugX   M     27\n"
     ]
    },
    {
     "data": {
      "image/png": "[encoded data removed]",
      "text/plain": [
       "<Figure size 900x500 with 1 Axes>"
      ]
     },
     "metadata": {},
     "output_type": "display_data"
    }
   ],
   "source": [
    "# Grafica la relación entre el el Género y los Medicamentos 💊 que se les da\n",
    "#Primero armar una tablita para poder graficarlas\n",
    "\n",
    "#Grafica la tablita anterior con una gráfica de barras\n",
    "df_Sex_Drug = df.groupby([\"Drug\", \"Sex\"]).size().reset_index(name=\"Count\")\n",
    "print(df_Sex_Drug)\n",
    "\n",
    "plt.figure(figsize=(9,5))\n",
    "sns.barplot(x=\"Drug\", y=\"Count\", hue=\"Sex\", data=df_Sex_Drug)\n",
    "plt.title(\"Género / Medicamento\")\n",
    "plt.show()"
   ]
  },
  {
   "cell_type": "code",
   "execution_count": 59,
   "id": "7fba93fc",
   "metadata": {},
   "outputs": [
    {
     "name": "stdout",
     "output_type": "stream",
     "text": [
      "    Drug      BP  Count\n",
      "0  DrugY    HIGH     38\n",
      "1  DrugY     LOW     30\n",
      "2  DrugY  NORMAL     23\n",
      "3  drugA    HIGH     23\n",
      "4  drugB    HIGH     16\n",
      "5  drugC     LOW     16\n",
      "6  drugX     LOW     18\n",
      "7  drugX  NORMAL     36\n"
     ]
    },
    {
     "data": {
      "image/png": "[encoded data removed]",
      "text/plain": [
       "<Figure size 900x500 with 1 Axes>"
      ]
     },
     "metadata": {},
     "output_type": "display_data"
    }
   ],
   "source": [
    "# Grafica la relación entre la Presión Sanguínea y los Medicamentos 💊\n",
    "df_BP_Drug = df.groupby([\"Drug\", \"BP\"]).size().reset_index(name=\"Count\")\n",
    "print(df_BP_Drug)\n",
    "\n",
    "plt.figure(figsize=(9,5))\n",
    "sns.barplot(x=\"Drug\", y=\"Count\", hue=\"BP\", data=df_BP_Drug)\n",
    "plt.title(\"Presión Sanguínea / Medicamentos\")\n",
    "plt.show()"
   ]
  },
  {
   "cell_type": "code",
   "execution_count": 60,
   "id": "a0d00f1e",
   "metadata": {},
   "outputs": [
    {
     "name": "stdout",
     "output_type": "stream",
     "text": [
      "    Drug Cholesterol  Count\n",
      "0  DrugY        HIGH     47\n",
      "1  DrugY      NORMAL     44\n",
      "2  drugA        HIGH     12\n",
      "3  drugA      NORMAL     11\n",
      "4  drugB        HIGH      8\n",
      "5  drugB      NORMAL      8\n",
      "6  drugC        HIGH     16\n",
      "7  drugX        HIGH     20\n",
      "8  drugX      NORMAL     34\n"
     ]
    },
    {
     "data": {
      "image/png": "[encoded data removed]",
      "text/plain": [
       "<Figure size 900x500 with 1 Axes>"
      ]
     },
     "metadata": {},
     "output_type": "display_data"
    }
   ],
   "source": [
    "# Grafica (con una gráfica de barras)nla relación entre el nivel de colesterol y los medicamentos 💊\n",
    "df_CH_Drug = df.groupby([\"Drug\", \"Cholesterol\"]).size().reset_index(name=\"Count\")\n",
    "print(df_CH_Drug)\n",
    "\n",
    "plt.figure(figsize=(9,5))\n",
    "sns.barplot(x=\"Drug\", y=\"Count\", hue=\"Cholesterol\", data=df_CH_Drug)\n",
    "plt.title(\"Colesterol / Medicamento\")\n",
    "plt.show()"
   ]
  },
  {
   "cell_type": "code",
   "execution_count": null,
   "id": "a1baac67",
   "metadata": {},
   "outputs": [
    {
     "data": {
      "image/png": "[encoded data removed]",
      "text/plain": [
       "<Figure size 900x500 with 1 Axes>"
      ]
     },
     "metadata": {},
     "output_type": "display_data"
    }
   ],
   "source": [
    "#Grafica (con un swarmplot) la relación entre el nivel de Sodio-Potasio y los medicamentos 💊 que se les da\n",
    "plt.figure(figsize=(9,5))\n",
    "\n",
    "sns.swarmplot(x=\"Drug\", y=\"Na_to_K\", data=df)\n",
    "\n",
    "plt.title(\"Sodio-Potasio / Medicamentos\")\n",
    "plt.show()"
   ]
  },
  {
   "cell_type": "markdown",
   "id": "71aa2c62-820d-4fe1-8d8a-11ee79ccb844",
   "metadata": {},
   "source": [
    "***"
   ]
  },
  {
   "cell_type": "markdown",
   "id": "443087ee-ad9e-4aea-ad74-29376817eabb",
   "metadata": {},
   "source": [
    "## <span style=\"color:green\">4. Limpieza y Separación de Datos</span>\n"
   ]
  },
  {
   "cell_type": "code",
   "execution_count": 62,
   "id": "29298ff4",
   "metadata": {},
   "outputs": [
    {
     "data": {
      "text/html": [
       "<div>\n",
       "<style scoped>\n",
       "    .dataframe tbody tr th:only-of-type {\n",
       "        vertical-align: middle;\n",
       "    }\n",
       "\n",
       "    .dataframe tbody tr th {\n",
       "        vertical-align: top;\n",
       "    }\n",
       "\n",
       "    .dataframe thead th {\n",
       "        text-align: right;\n",
       "    }\n",
       "</style>\n",
       "<table border=\"1\" class=\"dataframe\">\n",
       "  <thead>\n",
       "    <tr style=\"text-align: right;\">\n",
       "      <th></th>\n",
       "      <th>Age</th>\n",
       "      <th>Sex</th>\n",
       "      <th>BP</th>\n",
       "      <th>Cholesterol</th>\n",
       "      <th>Na_to_K</th>\n",
       "      <th>Drug</th>\n",
       "    </tr>\n",
       "  </thead>\n",
       "  <tbody>\n",
       "    <tr>\n",
       "      <th>0</th>\n",
       "      <td>23</td>\n",
       "      <td>0</td>\n",
       "      <td>0</td>\n",
       "      <td>0</td>\n",
       "      <td>167</td>\n",
       "      <td>0</td>\n",
       "    </tr>\n",
       "    <tr>\n",
       "      <th>1</th>\n",
       "      <td>47</td>\n",
       "      <td>1</td>\n",
       "      <td>1</td>\n",
       "      <td>0</td>\n",
       "      <td>89</td>\n",
       "      <td>3</td>\n",
       "    </tr>\n",
       "    <tr>\n",
       "      <th>2</th>\n",
       "      <td>47</td>\n",
       "      <td>1</td>\n",
       "      <td>1</td>\n",
       "      <td>0</td>\n",
       "      <td>43</td>\n",
       "      <td>3</td>\n",
       "    </tr>\n",
       "    <tr>\n",
       "      <th>3</th>\n",
       "      <td>28</td>\n",
       "      <td>0</td>\n",
       "      <td>2</td>\n",
       "      <td>0</td>\n",
       "      <td>10</td>\n",
       "      <td>4</td>\n",
       "    </tr>\n",
       "    <tr>\n",
       "      <th>4</th>\n",
       "      <td>61</td>\n",
       "      <td>0</td>\n",
       "      <td>1</td>\n",
       "      <td>0</td>\n",
       "      <td>133</td>\n",
       "      <td>0</td>\n",
       "    </tr>\n",
       "  </tbody>\n",
       "</table>\n",
       "</div>"
      ],
      "text/plain": [
       "   Age  Sex  BP  Cholesterol  Na_to_K  Drug\n",
       "0   23    0   0            0      167     0\n",
       "1   47    1   1            0       89     3\n",
       "2   47    1   1            0       43     3\n",
       "3   28    0   2            0       10     4\n",
       "4   61    0   1            0      133     0"
      ]
     },
     "execution_count": 62,
     "metadata": {},
     "output_type": "execute_result"
    }
   ],
   "source": [
    "## Utilizar LabelEncoder para procesar variables alfanuméricas como el sexo, BP, Colesterol, étc\n",
    "from sklearn.preprocessing import LabelEncoder\n",
    "\n",
    "def label_encoder(datos_categoria):\n",
    "    le = LabelEncoder()\n",
    "    df[datos_categoria] = le.fit_transform(df[datos_categoria])\n",
    "\n",
    "variables = [\"Sex\", \"BP\", \"Cholesterol\", \"Na_to_K\", \"Drug\"]\n",
    "\n",
    "for l in variables:\n",
    "    label_encoder(l)\n",
    "\n",
    "df.head()"
   ]
  },
  {
   "cell_type": "code",
   "execution_count": 71,
   "id": "4144a67c",
   "metadata": {},
   "outputs": [],
   "source": [
    "# Crear set de entrenamiento y set de prueba\n",
    "x = df.drop([\"Drug\"], axis=1)\n",
    "\n",
    "y = df.Drug \n",
    "\n",
    "from sklearn.model_selection import train_test_split\n",
    "\n",
    "x_train, x_test, y_train, y_test = train_test_split(\n",
    "    x, y, test_size=0.2, random_state=42, shuffle=True\n",
    ")"
   ]
  },
  {
   "cell_type": "markdown",
   "id": "795b737b-a8b5-47ec-b37a-25ddc33958a1",
   "metadata": {},
   "source": [
    "El 20% de los datos, serán de prueba. Shuffle será true. Semilla de Aleatoriedad=42"
   ]
  },
  {
   "cell_type": "markdown",
   "id": "f1683e08-1f3d-417a-9070-52503a64503a",
   "metadata": {},
   "source": [
    "***"
   ]
  },
  {
   "cell_type": "markdown",
   "id": "72cc823f",
   "metadata": {},
   "source": [
    "## <span style=\"color:green\">5. Modelo de Clasificación Binario</span>\n"
   ]
  },
  {
   "cell_type": "code",
   "execution_count": 72,
   "id": "c3288417",
   "metadata": {},
   "outputs": [
    {
     "name": "stdout",
     "output_type": "stream",
     "text": [
      "79     False\n",
      "197    False\n",
      "38     False\n",
      "24      True\n",
      "122     True\n",
      "Name: Drug, dtype: bool\n",
      "95     False\n",
      "15      True\n",
      "30     False\n",
      "158    False\n",
      "128     True\n",
      "Name: Drug, dtype: bool\n"
     ]
    }
   ],
   "source": [
    "## Crear modelo para medicamento\n",
    "y_train_c = (y_train == 0)\n",
    "y_test_c = (y_test == 0)\n",
    "\n",
    "print(y_train_c.head())\n",
    "print(y_test_c.head())"
   ]
  },
  {
   "cell_type": "markdown",
   "id": "58f623de-9a2c-440d-8e22-c431204df057",
   "metadata": {},
   "source": [
    "Empezaremos con la medicina Y porque es la más popular y, por ende la más fácil de predecir"
   ]
  },
  {
   "cell_type": "code",
   "execution_count": 78,
   "id": "fba21bcb",
   "metadata": {},
   "outputs": [
    {
     "data": {
      "text/html": [
       "<style>#sk-container-id-1 {\n",
       "  /* Definition of color scheme common for light and dark mode */\n",
       "  --sklearn-color-text: black;\n",
       "  --sklearn-color-line: gray;\n",
       "  /* Definition of color scheme for unfitted estimators */\n",
       "  --sklearn-color-unfitted-level-0: #fff5e6;\n",
       "  --sklearn-color-unfitted-level-1: #f6e4d2;\n",
       "  --sklearn-color-unfitted-level-2: #ffe0b3;\n",
       "  --sklearn-color-unfitted-level-3: chocolate;\n",
       "  /* Definition of color scheme for fitted estimators */\n",
       "  --sklearn-color-fitted-level-0: #f0f8ff;\n",
       "  --sklearn-color-fitted-level-1: #d4ebff;\n",
       "  --sklearn-color-fitted-level-2: #b3dbfd;\n",
       "  --sklearn-color-fitted-level-3: cornflowerblue;\n",
       "\n",
       "  /* Specific color for light theme */\n",
       "  --sklearn-color-text-on-default-background: var(--sg-text-color, var(--theme-code-foreground, var(--jp-content-font-color1, black)));\n",
       "  --sklearn-color-background: var(--sg-background-color, var(--theme-background, var(--jp-layout-color0, white)));\n",
       "  --sklearn-color-border-box: var(--sg-text-color, var(--theme-code-foreground, var(--jp-content-font-color1, black)));\n",
       "  --sklearn-color-icon: #696969;\n",
       "\n",
       "  @media (prefers-color-scheme: dark) {\n",
       "    /* Redefinition of color scheme for dark theme */\n",
       "    --sklearn-color-text-on-default-background: var(--sg-text-color, var(--theme-code-foreground, var(--jp-content-font-color1, white)));\n",
       "    --sklearn-color-background: var(--sg-background-color, var(--theme-background, var(--jp-layout-color0, #111)));\n",
       "    --sklearn-color-border-box: var(--sg-text-color, var(--theme-code-foreground, var(--jp-content-font-color1, white)));\n",
       "    --sklearn-color-icon: #878787;\n",
       "  }\n",
       "}\n",
       "\n",
       "#sk-container-id-1 {\n",
       "  color: var(--sklearn-color-text);\n",
       "}\n",
       "\n",
       "#sk-container-id-1 pre {\n",
       "  padding: 0;\n",
       "}\n",
       "\n",
       "#sk-container-id-1 input.sk-hidden--visually {\n",
       "  border: 0;\n",
       "  clip: rect(1px 1px 1px 1px);\n",
       "  clip: rect(1px, 1px, 1px, 1px);\n",
       "  height: 1px;\n",
       "  margin: -1px;\n",
       "  overflow: hidden;\n",
       "  padding: 0;\n",
       "  position: absolute;\n",
       "  width: 1px;\n",
       "}\n",
       "\n",
       "#sk-container-id-1 div.sk-dashed-wrapped {\n",
       "  border: 1px dashed var(--sklearn-color-line);\n",
       "  margin: 0 0.4em 0.5em 0.4em;\n",
       "  box-sizing: border-box;\n",
       "  padding-bottom: 0.4em;\n",
       "  background-color: var(--sklearn-color-background);\n",
       "}\n",
       "\n",
       "#sk-container-id-1 div.sk-container {\n",
       "  /* jupyter's `normalize.less` sets `[hidden] { display: none; }`\n",
       "     but bootstrap.min.css set `[hidden] { display: none !important; }`\n",
       "     so we also need the `!important` here to be able to override the\n",
       "     default hidden behavior on the sphinx rendered scikit-learn.org.\n",
       "     See: https://github.com/scikit-learn/scikit-learn/issues/21755 */\n",
       "  display: inline-block !important;\n",
       "  position: relative;\n",
       "}\n",
       "\n",
       "#sk-container-id-1 div.sk-text-repr-fallback {\n",
       "  display: none;\n",
       "}\n",
       "\n",
       "div.sk-parallel-item,\n",
       "div.sk-serial,\n",
       "div.sk-item {\n",
       "  /* draw centered vertical line to link estimators */\n",
       "  background-image: linear-gradient(var(--sklearn-color-text-on-default-background), var(--sklearn-color-text-on-default-background));\n",
       "  background-size: 2px 100%;\n",
       "  background-repeat: no-repeat;\n",
       "  background-position: center center;\n",
       "}\n",
       "\n",
       "/* Parallel-specific style estimator block */\n",
       "\n",
       "#sk-container-id-1 div.sk-parallel-item::after {\n",
       "  content: \"\";\n",
       "  width: 100%;\n",
       "  border-bottom: 2px solid var(--sklearn-color-text-on-default-background);\n",
       "  flex-grow: 1;\n",
       "}\n",
       "\n",
       "#sk-container-id-1 div.sk-parallel {\n",
       "  display: flex;\n",
       "  align-items: stretch;\n",
       "  justify-content: center;\n",
       "  background-color: var(--sklearn-color-background);\n",
       "  position: relative;\n",
       "}\n",
       "\n",
       "#sk-container-id-1 div.sk-parallel-item {\n",
       "  display: flex;\n",
       "  flex-direction: column;\n",
       "}\n",
       "\n",
       "#sk-container-id-1 div.sk-parallel-item:first-child::after {\n",
       "  align-self: flex-end;\n",
       "  width: 50%;\n",
       "}\n",
       "\n",
       "#sk-container-id-1 div.sk-parallel-item:last-child::after {\n",
       "  align-self: flex-start;\n",
       "  width: 50%;\n",
       "}\n",
       "\n",
       "#sk-container-id-1 div.sk-parallel-item:only-child::after {\n",
       "  width: 0;\n",
       "}\n",
       "\n",
       "/* Serial-specific style estimator block */\n",
       "\n",
       "#sk-container-id-1 div.sk-serial {\n",
       "  display: flex;\n",
       "  flex-direction: column;\n",
       "  align-items: center;\n",
       "  background-color: var(--sklearn-color-background);\n",
       "  padding-right: 1em;\n",
       "  padding-left: 1em;\n",
       "}\n",
       "\n",
       "\n",
       "/* Toggleable style: style used for estimator/Pipeline/ColumnTransformer box that is\n",
       "clickable and can be expanded/collapsed.\n",
       "- Pipeline and ColumnTransformer use this feature and define the default style\n",
       "- Estimators will overwrite some part of the style using the `sk-estimator` class\n",
       "*/\n",
       "\n",
       "/* Pipeline and ColumnTransformer style (default) */\n",
       "\n",
       "#sk-container-id-1 div.sk-toggleable {\n",
       "  /* Default theme specific background. It is overwritten whether we have a\n",
       "  specific estimator or a Pipeline/ColumnTransformer */\n",
       "  background-color: var(--sklearn-color-background);\n",
       "}\n",
       "\n",
       "/* Toggleable label */\n",
       "#sk-container-id-1 label.sk-toggleable__label {\n",
       "  cursor: pointer;\n",
       "  display: block;\n",
       "  width: 100%;\n",
       "  margin-bottom: 0;\n",
       "  padding: 0.5em;\n",
       "  box-sizing: border-box;\n",
       "  text-align: center;\n",
       "}\n",
       "\n",
       "#sk-container-id-1 label.sk-toggleable__label-arrow:before {\n",
       "  /* Arrow on the left of the label */\n",
       "  content: \"▸\";\n",
       "  float: left;\n",
       "  margin-right: 0.25em;\n",
       "  color: var(--sklearn-color-icon);\n",
       "}\n",
       "\n",
       "#sk-container-id-1 label.sk-toggleable__label-arrow:hover:before {\n",
       "  color: var(--sklearn-color-text);\n",
       "}\n",
       "\n",
       "/* Toggleable content - dropdown */\n",
       "\n",
       "#sk-container-id-1 div.sk-toggleable__content {\n",
       "  max-height: 0;\n",
       "  max-width: 0;\n",
       "  overflow: hidden;\n",
       "  text-align: left;\n",
       "  /* unfitted */\n",
       "  background-color: var(--sklearn-color-unfitted-level-0);\n",
       "}\n",
       "\n",
       "#sk-container-id-1 div.sk-toggleable__content.fitted {\n",
       "  /* fitted */\n",
       "  background-color: var(--sklearn-color-fitted-level-0);\n",
       "}\n",
       "\n",
       "#sk-container-id-1 div.sk-toggleable__content pre {\n",
       "  margin: 0.2em;\n",
       "  border-radius: 0.25em;\n",
       "  color: var(--sklearn-color-text);\n",
       "  /* unfitted */\n",
       "  background-color: var(--sklearn-color-unfitted-level-0);\n",
       "}\n",
       "\n",
       "#sk-container-id-1 div.sk-toggleable__content.fitted pre {\n",
       "  /* unfitted */\n",
       "  background-color: var(--sklearn-color-fitted-level-0);\n",
       "}\n",
       "\n",
       "#sk-container-id-1 input.sk-toggleable__control:checked~div.sk-toggleable__content {\n",
       "  /* Expand drop-down */\n",
       "  max-height: 200px;\n",
       "  max-width: 100%;\n",
       "  overflow: auto;\n",
       "}\n",
       "\n",
       "#sk-container-id-1 input.sk-toggleable__control:checked~label.sk-toggleable__label-arrow:before {\n",
       "  content: \"▾\";\n",
       "}\n",
       "\n",
       "/* Pipeline/ColumnTransformer-specific style */\n",
       "\n",
       "#sk-container-id-1 div.sk-label input.sk-toggleable__control:checked~label.sk-toggleable__label {\n",
       "  color: var(--sklearn-color-text);\n",
       "  background-color: var(--sklearn-color-unfitted-level-2);\n",
       "}\n",
       "\n",
       "#sk-container-id-1 div.sk-label.fitted input.sk-toggleable__control:checked~label.sk-toggleable__label {\n",
       "  background-color: var(--sklearn-color-fitted-level-2);\n",
       "}\n",
       "\n",
       "/* Estimator-specific style */\n",
       "\n",
       "/* Colorize estimator box */\n",
       "#sk-container-id-1 div.sk-estimator input.sk-toggleable__control:checked~label.sk-toggleable__label {\n",
       "  /* unfitted */\n",
       "  background-color: var(--sklearn-color-unfitted-level-2);\n",
       "}\n",
       "\n",
       "#sk-container-id-1 div.sk-estimator.fitted input.sk-toggleable__control:checked~label.sk-toggleable__label {\n",
       "  /* fitted */\n",
       "  background-color: var(--sklearn-color-fitted-level-2);\n",
       "}\n",
       "\n",
       "#sk-container-id-1 div.sk-label label.sk-toggleable__label,\n",
       "#sk-container-id-1 div.sk-label label {\n",
       "  /* The background is the default theme color */\n",
       "  color: var(--sklearn-color-text-on-default-background);\n",
       "}\n",
       "\n",
       "/* On hover, darken the color of the background */\n",
       "#sk-container-id-1 div.sk-label:hover label.sk-toggleable__label {\n",
       "  color: var(--sklearn-color-text);\n",
       "  background-color: var(--sklearn-color-unfitted-level-2);\n",
       "}\n",
       "\n",
       "/* Label box, darken color on hover, fitted */\n",
       "#sk-container-id-1 div.sk-label.fitted:hover label.sk-toggleable__label.fitted {\n",
       "  color: var(--sklearn-color-text);\n",
       "  background-color: var(--sklearn-color-fitted-level-2);\n",
       "}\n",
       "\n",
       "/* Estimator label */\n",
       "\n",
       "#sk-container-id-1 div.sk-label label {\n",
       "  font-family: monospace;\n",
       "  font-weight: bold;\n",
       "  display: inline-block;\n",
       "  line-height: 1.2em;\n",
       "}\n",
       "\n",
       "#sk-container-id-1 div.sk-label-container {\n",
       "  text-align: center;\n",
       "}\n",
       "\n",
       "/* Estimator-specific */\n",
       "#sk-container-id-1 div.sk-estimator {\n",
       "  font-family: monospace;\n",
       "  border: 1px dotted var(--sklearn-color-border-box);\n",
       "  border-radius: 0.25em;\n",
       "  box-sizing: border-box;\n",
       "  margin-bottom: 0.5em;\n",
       "  /* unfitted */\n",
       "  background-color: var(--sklearn-color-unfitted-level-0);\n",
       "}\n",
       "\n",
       "#sk-container-id-1 div.sk-estimator.fitted {\n",
       "  /* fitted */\n",
       "  background-color: var(--sklearn-color-fitted-level-0);\n",
       "}\n",
       "\n",
       "/* on hover */\n",
       "#sk-container-id-1 div.sk-estimator:hover {\n",
       "  /* unfitted */\n",
       "  background-color: var(--sklearn-color-unfitted-level-2);\n",
       "}\n",
       "\n",
       "#sk-container-id-1 div.sk-estimator.fitted:hover {\n",
       "  /* fitted */\n",
       "  background-color: var(--sklearn-color-fitted-level-2);\n",
       "}\n",
       "\n",
       "/* Specification for estimator info (e.g. \"i\" and \"?\") */\n",
       "\n",
       "/* Common style for \"i\" and \"?\" */\n",
       "\n",
       ".sk-estimator-doc-link,\n",
       "a:link.sk-estimator-doc-link,\n",
       "a:visited.sk-estimator-doc-link {\n",
       "  float: right;\n",
       "  font-size: smaller;\n",
       "  line-height: 1em;\n",
       "  font-family: monospace;\n",
       "  background-color: var(--sklearn-color-background);\n",
       "  border-radius: 1em;\n",
       "  height: 1em;\n",
       "  width: 1em;\n",
       "  text-decoration: none !important;\n",
       "  margin-left: 1ex;\n",
       "  /* unfitted */\n",
       "  border: var(--sklearn-color-unfitted-level-1) 1pt solid;\n",
       "  color: var(--sklearn-color-unfitted-level-1);\n",
       "}\n",
       "\n",
       ".sk-estimator-doc-link.fitted,\n",
       "a:link.sk-estimator-doc-link.fitted,\n",
       "a:visited.sk-estimator-doc-link.fitted {\n",
       "  /* fitted */\n",
       "  border: var(--sklearn-color-fitted-level-1) 1pt solid;\n",
       "  color: var(--sklearn-color-fitted-level-1);\n",
       "}\n",
       "\n",
       "/* On hover */\n",
       "div.sk-estimator:hover .sk-estimator-doc-link:hover,\n",
       ".sk-estimator-doc-link:hover,\n",
       "div.sk-label-container:hover .sk-estimator-doc-link:hover,\n",
       ".sk-estimator-doc-link:hover {\n",
       "  /* unfitted */\n",
       "  background-color: var(--sklearn-color-unfitted-level-3);\n",
       "  color: var(--sklearn-color-background);\n",
       "  text-decoration: none;\n",
       "}\n",
       "\n",
       "div.sk-estimator.fitted:hover .sk-estimator-doc-link.fitted:hover,\n",
       ".sk-estimator-doc-link.fitted:hover,\n",
       "div.sk-label-container:hover .sk-estimator-doc-link.fitted:hover,\n",
       ".sk-estimator-doc-link.fitted:hover {\n",
       "  /* fitted */\n",
       "  background-color: var(--sklearn-color-fitted-level-3);\n",
       "  color: var(--sklearn-color-background);\n",
       "  text-decoration: none;\n",
       "}\n",
       "\n",
       "/* Span, style for the box shown on hovering the info icon */\n",
       ".sk-estimator-doc-link span {\n",
       "  display: none;\n",
       "  z-index: 9999;\n",
       "  position: relative;\n",
       "  font-weight: normal;\n",
       "  right: .2ex;\n",
       "  padding: .5ex;\n",
       "  margin: .5ex;\n",
       "  width: min-content;\n",
       "  min-width: 20ex;\n",
       "  max-width: 50ex;\n",
       "  color: var(--sklearn-color-text);\n",
       "  box-shadow: 2pt 2pt 4pt #999;\n",
       "  /* unfitted */\n",
       "  background: var(--sklearn-color-unfitted-level-0);\n",
       "  border: .5pt solid var(--sklearn-color-unfitted-level-3);\n",
       "}\n",
       "\n",
       ".sk-estimator-doc-link.fitted span {\n",
       "  /* fitted */\n",
       "  background: var(--sklearn-color-fitted-level-0);\n",
       "  border: var(--sklearn-color-fitted-level-3);\n",
       "}\n",
       "\n",
       ".sk-estimator-doc-link:hover span {\n",
       "  display: block;\n",
       "}\n",
       "\n",
       "/* \"?\"-specific style due to the `<a>` HTML tag */\n",
       "\n",
       "#sk-container-id-1 a.estimator_doc_link {\n",
       "  float: right;\n",
       "  font-size: 1rem;\n",
       "  line-height: 1em;\n",
       "  font-family: monospace;\n",
       "  background-color: var(--sklearn-color-background);\n",
       "  border-radius: 1rem;\n",
       "  height: 1rem;\n",
       "  width: 1rem;\n",
       "  text-decoration: none;\n",
       "  /* unfitted */\n",
       "  color: var(--sklearn-color-unfitted-level-1);\n",
       "  border: var(--sklearn-color-unfitted-level-1) 1pt solid;\n",
       "}\n",
       "\n",
       "#sk-container-id-1 a.estimator_doc_link.fitted {\n",
       "  /* fitted */\n",
       "  border: var(--sklearn-color-fitted-level-1) 1pt solid;\n",
       "  color: var(--sklearn-color-fitted-level-1);\n",
       "}\n",
       "\n",
       "/* On hover */\n",
       "#sk-container-id-1 a.estimator_doc_link:hover {\n",
       "  /* unfitted */\n",
       "  background-color: var(--sklearn-color-unfitted-level-3);\n",
       "  color: var(--sklearn-color-background);\n",
       "  text-decoration: none;\n",
       "}\n",
       "\n",
       "#sk-container-id-1 a.estimator_doc_link.fitted:hover {\n",
       "  /* fitted */\n",
       "  background-color: var(--sklearn-color-fitted-level-3);\n",
       "}\n",
       "</style><div id=\"sk-container-id-1\" class=\"sk-top-container\"><div class=\"sk-text-repr-fallback\"><pre>SGDClassifier(random_state=42)</pre><b>In a Jupyter environment, please rerun this cell to show the HTML representation or trust the notebook. <br />On GitHub, the HTML representation is unable to render, please try loading this page with nbviewer.org.</b></div><div class=\"sk-container\" hidden><div class=\"sk-item\"><div class=\"sk-estimator fitted sk-toggleable\"><input class=\"sk-toggleable__control sk-hidden--visually\" id=\"sk-estimator-id-1\" type=\"checkbox\" checked><label for=\"sk-estimator-id-1\" class=\"sk-toggleable__label fitted sk-toggleable__label-arrow fitted\">&nbsp;&nbsp;SGDClassifier<a class=\"sk-estimator-doc-link fitted\" rel=\"noreferrer\" target=\"_blank\" href=\"https://scikit-learn.org/1.5/modules/generated/sklearn.linear_model.SGDClassifier.html\">?<span>Documentation for SGDClassifier</span></a><span class=\"sk-estimator-doc-link fitted\">i<span>Fitted</span></span></label><div class=\"sk-toggleable__content fitted\"><pre>SGDClassifier(random_state=42)</pre></div> </div></div></div></div>"
      ],
      "text/plain": [
       "SGDClassifier(random_state=42)"
      ]
     },
     "execution_count": 78,
     "metadata": {},
     "output_type": "execute_result"
    }
   ],
   "source": [
    "## Modelo SGD= Stochastic Gradient Descent (próximamente)\n",
    "from sklearn.linear_model import SGDClassifier\n",
    "\n",
    "sgd = SGDClassifier(random_state=42)\n",
    "sgd.fit(x_train, y_train)"
   ]
  },
  {
   "cell_type": "code",
   "execution_count": 81,
   "id": "bf5088ac-ad82-4826-a146-1019f6d44069",
   "metadata": {},
   "outputs": [
    {
     "name": "stdout",
     "output_type": "stream",
     "text": [
      "[False]\n"
     ]
    }
   ],
   "source": [
    "#Predecir la medicina a tomar de un humano que ya sepas el resultado \n",
    "import pandas as pd\n",
    "\n",
    "muestra = pd.DataFrame([[47, 1, 1, 0, 8]], columns=x_train.columns)\n",
    "prediccion = sgd.predict(muestra)\n",
    "\n",
    "resultado_booleano = (prediccion == 0)\n",
    "print(resultado_booleano)\n"
   ]
  },
  {
   "cell_type": "markdown",
   "id": "aa86fe0e-0bfa-4e4c-ba92-b74675da354f",
   "metadata": {},
   "source": [
    "👀: para saber que le esta yendo bien al modelo tienen que coincidir los resultados"
   ]
  },
  {
   "cell_type": "markdown",
   "id": "66e61519-7db0-4674-9d42-09a56e0aa4ad",
   "metadata": {},
   "source": [
    "***"
   ]
  },
  {
   "cell_type": "markdown",
   "id": "0a3c3270",
   "metadata": {},
   "source": [
    "## <span style=\"color:green\">6. Medidas de desempeño</span>\n"
   ]
  },
  {
   "cell_type": "markdown",
   "id": "f613829e-7173-4f3d-9134-419b8217e868",
   "metadata": {},
   "source": [
    "### <span style=\"color:blue\">6.1 Exactitud</span>"
   ]
  },
  {
   "cell_type": "code",
   "execution_count": 82,
   "id": "8429ae01",
   "metadata": {},
   "outputs": [
    {
     "data": {
      "text/plain": [
       "array([0.7962963 , 0.73584906, 0.71698113])"
      ]
     },
     "execution_count": 82,
     "metadata": {},
     "output_type": "execute_result"
    }
   ],
   "source": [
    "# Realiza una Cross validation/K-Folds\n",
    "from sklearn.model_selection import cross_val_score\n",
    "\n",
    "cv_scores = cross_val_score(sgd, x_train, y_train_c, cv=3, scoring=\"accuracy\")\n",
    "cv_scores"
   ]
  },
  {
   "cell_type": "markdown",
   "id": "9c5b0b55-8ab3-4cc5-aed1-95f9e44727c1",
   "metadata": {},
   "source": [
    " \n",
    "**cv:** número de dobleses \n",
    "\n",
    "**scoring:** accuracy (será nuestra medida de desempeño)  "
   ]
  },
  {
   "cell_type": "code",
   "execution_count": 84,
   "id": "8b84c96e",
   "metadata": {},
   "outputs": [],
   "source": [
    "# Modelo que nunca es Y"
   ]
  },
  {
   "cell_type": "markdown",
   "id": "0cdfab5e-4809-46f5-91ef-5c6eb7338842",
   "metadata": {},
   "source": [
    "***"
   ]
  },
  {
   "cell_type": "markdown",
   "id": "199752d5",
   "metadata": {},
   "source": [
    "### <span style=\"color:blue\">6.2 Matriz de Confusión</span>"
   ]
  },
  {
   "cell_type": "code",
   "execution_count": 90,
   "id": "39275fad",
   "metadata": {},
   "outputs": [
    {
     "name": "stdout",
     "output_type": "stream",
     "text": [
      "[False False False  True  True False False  True False False False False\n",
      " False False False  True False  True False False False False False False\n",
      " False False False False False False False False False False False False\n",
      "  True False False False False  True False False False False False False\n",
      " False False  True False  True False  True  True False  True False  True\n",
      "  True  True False False  True False False  True False  True  True  True\n",
      "  True  True  True  True  True  True  True  True  True False False  True\n",
      "  True  True  True  True False  True  True False  True  True  True False\n",
      " False False  True  True  True  True  True  True  True  True  True False\n",
      "  True  True False  True  True  True  True  True False  True  True  True\n",
      "  True  True  True  True False False  True  True  True False  True  True\n",
      "  True  True  True  True False  True  True False  True  True False  True\n",
      " False False  True False  True  True  True  True  True  True  True  True\n",
      "  True  True  True  True]\n",
      "[[56 28]\n",
      " [15 61]]\n"
     ]
    }
   ],
   "source": [
    "# Matriz de confusión\n",
    "#Importar cross_val_predict \n",
    "#Importar confusion_matrix\n",
    "from sklearn.model_selection import cross_val_predict\n",
    "y_train_pred = cross_val_predict(sgd, x_train, y_train, cv=3)\n",
    "\n",
    "print(y_train_pred == 0)\n",
    "\n",
    "from sklearn.metrics import confusion_matrix\n",
    "print(confusion_matrix(y_train == 0, y_train_pred == 0))\n"
   ]
  },
  {
   "attachments": {
    "3f90b91e-ff94-40c8-b015-0fd5b2eb1586.png": {
     "image/png": "[encoded data removed]"
    }
   },
   "cell_type": "markdown",
   "id": "f54a780c-183a-4fa2-84c9-fd6fb8d65503",
   "metadata": {},
   "source": [
    "![matriz.png](attachment:3f90b91e-ff94-40c8-b015-0fd5b2eb1586.png)"
   ]
  },
  {
   "cell_type": "markdown",
   "id": "f0f6a0ec-d9f6-47cb-b748-3c519715dd14",
   "metadata": {},
   "source": [
    "**Verdaderos Negativos**: esquina superior izquierda \n",
    "\n",
    "**Falsos positivos**: esquina superior derecha\n",
    "\n",
    "**Falsos Negativos**: esquina inferior izquierda\n",
    "\n",
    "**Verdaderos Positivos**: esquina inferior derecha "
   ]
  },
  {
   "cell_type": "markdown",
   "id": "38fd4cd1-2bcb-4a78-b36d-e1111764aa41",
   "metadata": {},
   "source": [
    "***"
   ]
  },
  {
   "cell_type": "markdown",
   "id": "cfe9e7be",
   "metadata": {},
   "source": [
    "### <span style=\"color:blue\">6.3 Precision y Recall</span>"
   ]
  },
  {
   "cell_type": "code",
   "execution_count": 91,
   "id": "edd6f25a",
   "metadata": {
    "scrolled": true
   },
   "outputs": [
    {
     "data": {
      "text/plain": [
       "(0.6551724137931034, 1.0)"
      ]
     },
     "execution_count": 91,
     "metadata": {},
     "output_type": "execute_result"
    }
   ],
   "source": [
    "#Importar precision_score y recall_score \n",
    "from sklearn.model_selection import cross_val_predict\n",
    "from sklearn.metrics import confusion_matrix, precision_score, recall_score\n",
    "\n",
    "y_train_y = (y_train == 0)\n",
    "y_train_pred = cross_val_predict(sgd, x_train, y_train_y, cv=3)\n",
    "\n",
    "p = precision_score(y_train_y, y_train_pred)\n",
    "r = recall_score(y_train_y, y_train_pred)\n",
    "\n",
    "p, r"
   ]
  },
  {
   "attachments": {
    "7eddb0e3-9b2f-40e6-8859-a4ba9718b0b8.png": {
     "image/png": "[encoded data removed]"
    }
   },
   "cell_type": "markdown",
   "id": "45751f1a-3ba0-4263-bc49-7f2674f8b981",
   "metadata": {},
   "source": [
    "![image.png](attachment:7eddb0e3-9b2f-40e6-8859-a4ba9718b0b8.png)"
   ]
  },
  {
   "attachments": {
    "c3eee779-8ac5-44f2-ac4c-b18a71b57466.png": {
     "image/png": "[encoded data removed]"
    }
   },
   "cell_type": "markdown",
   "id": "5b055c17-6489-45da-8e6b-58426deddd31",
   "metadata": {},
   "source": [
    "![image.png](attachment:c3eee779-8ac5-44f2-ac4c-b18a71b57466.png)"
   ]
  },
  {
   "cell_type": "code",
   "execution_count": 96,
   "id": "cf491a28",
   "metadata": {},
   "outputs": [
    {
     "data": {
      "text/plain": [
       "array([[84,  0],\n",
       "       [ 2, 74]], dtype=int64)"
      ]
     },
     "execution_count": 96,
     "metadata": {},
     "output_type": "execute_result"
    }
   ],
   "source": [
    "#Cambiar de clasificador\n",
    "#Importar RandomForestClassifier\n",
    "\n",
    "#Hacer la matriz de confusión otra vez\n",
    "from sklearn.ensemble import RandomForestClassifier\n",
    "\n",
    "rfc = RandomForestClassifier(random_state = 42)\n",
    "\n",
    "rfc.fit(x_train,y_train_y)\n",
    "\n",
    "y_train_pred = cross_val_predict(rfc,x_train,y_train_y,cv=3)\n",
    "confusion_matrix(y_train_y,y_train_pred)\n"
   ]
  },
  {
   "cell_type": "code",
   "execution_count": 97,
   "id": "432e451f",
   "metadata": {},
   "outputs": [
    {
     "data": {
      "text/plain": [
       "(1.0, 0.9736842105263158)"
      ]
     },
     "execution_count": 97,
     "metadata": {},
     "output_type": "execute_result"
    }
   ],
   "source": [
    "#Calcular la precisión y recall con el nuevo clasificador \n",
    "p = precision_score(y_train_y,y_train_pred)\n",
    "\n",
    "r = recall_score(y_train_y,y_train_pred)\n",
    "\n",
    "p,r"
   ]
  },
  {
   "cell_type": "code",
   "execution_count": 99,
   "id": "c4769c66",
   "metadata": {},
   "outputs": [
    {
     "data": {
      "text/plain": [
       "0.011728395061728394"
      ]
     },
     "execution_count": 99,
     "metadata": {},
     "output_type": "execute_result"
    }
   ],
   "source": [
    "#Calcular F1\n",
    "from sklearn.metrics import f1_score\n",
    "\n",
    "f1 = f1_score(y_train, y_train_pred, average='weighted')\n",
    "f1\n"
   ]
  },
  {
   "attachments": {
    "5efcdf08-55c6-4026-990c-e851bc3241af.png": {
     "image/png": "[encoded data removed]"
    }
   },
   "cell_type": "markdown",
   "id": "09ac3e77-751f-4045-a07b-50c6869d2857",
   "metadata": {},
   "source": [
    "![image.png](attachment:5efcdf08-55c6-4026-990c-e851bc3241af.png)"
   ]
  },
  {
   "cell_type": "markdown",
   "id": "53fe39ca-eb18-40cb-ab4f-d2ba63dfe077",
   "metadata": {},
   "source": [
    "***"
   ]
  },
  {
   "cell_type": "markdown",
   "id": "8274b93b",
   "metadata": {},
   "source": [
    "### <span style=\"color:blue\">6.4 Umbral Precision y Recall</span>"
   ]
  },
  {
   "cell_type": "code",
   "execution_count": 100,
   "id": "eb8d1359",
   "metadata": {},
   "outputs": [
    {
     "data": {
      "text/plain": [
       "(1.0, 0.9736842105263158)"
      ]
     },
     "execution_count": 100,
     "metadata": {},
     "output_type": "execute_result"
    }
   ],
   "source": [
    "#Puntación de un paciente aleatorio\n",
    "from sklearn.metrics import precision_score, recall_score\n",
    "\n",
    "p = precision_score(y_train_y,y_train_pred)\n",
    "\n",
    "r = recall_score(y_train_y,y_train_pred)\n",
    "\n",
    "p,r"
   ]
  },
  {
   "cell_type": "code",
   "execution_count": 29,
   "id": "8be91577",
   "metadata": {},
   "outputs": [],
   "source": [
    "#Graficar la precisión y recall \n",
    "\n",
    "#Puedes visualizar los y_scores pero no te dice nada, la gráfica si lo hará \n",
    "#Graficar la precisión y recall, ahora si\n"
   ]
  },
  {
   "cell_type": "markdown",
   "id": "92e7801d-2378-4178-b631-36ef5720bc65",
   "metadata": {},
   "source": [
    "El umbral te permite conocer qué medida priorizar acorde a tus objetivos. Ya sea que estemos hablando de videos de youtube para niños 🍭 o un sistema de seguridad 🔒."
   ]
  },
  {
   "cell_type": "code",
   "execution_count": 30,
   "id": "b62f43f9",
   "metadata": {},
   "outputs": [],
   "source": [
    "#Supon que ya lo pensaste y querías un umbral  90 \n"
   ]
  },
  {
   "cell_type": "code",
   "execution_count": 31,
   "id": "5806f78b",
   "metadata": {},
   "outputs": [],
   "source": [
    "#Arroja la precisión y recall para un umbral de 90\n"
   ]
  },
  {
   "cell_type": "markdown",
   "id": "890d33dd-25e6-4787-84bc-213b348648d5",
   "metadata": {},
   "source": [
    "***"
   ]
  },
  {
   "cell_type": "markdown",
   "id": "6a2caf78",
   "metadata": {},
   "source": [
    "### <span style=\"color:blue\">6.5 Curva ROC</span>\n"
   ]
  },
  {
   "cell_type": "markdown",
   "id": "c589757e-e8a3-45bc-b264-91a7844e0005",
   "metadata": {},
   "source": [
    "Grafica Recall contra el porcentaje de Falsos Positivos"
   ]
  },
  {
   "cell_type": "code",
   "execution_count": 32,
   "id": "174891b7",
   "metadata": {},
   "outputs": [],
   "source": [
    "#Importar roc_curve\n"
   ]
  },
  {
   "cell_type": "code",
   "execution_count": 33,
   "id": "5336e616",
   "metadata": {},
   "outputs": [],
   "source": [
    "#Graficar la curva ROC\n",
    "\n",
    "#Poner una cuadrícula\n"
   ]
  },
  {
   "cell_type": "markdown",
   "id": "5e87c17d-a9da-425c-80d3-40d541f3af9c",
   "metadata": {},
   "source": [
    "Un modelo perfecto se asimila a una escuadra entre la curva ROC y la línea punteada porque existe una mayor área bajo la curva"
   ]
  },
  {
   "cell_type": "code",
   "execution_count": 34,
   "id": "cb11a9f2",
   "metadata": {},
   "outputs": [],
   "source": [
    "#Calcular el puntaje de la curva\n"
   ]
  },
  {
   "cell_type": "code",
   "execution_count": 35,
   "id": "bd8ce8ec",
   "metadata": {},
   "outputs": [],
   "source": [
    "#Compararlo con el modelo de random forest\n"
   ]
  },
  {
   "cell_type": "code",
   "execution_count": 36,
   "id": "40ed836a",
   "metadata": {},
   "outputs": [],
   "source": [
    "#Graficar la curva ROC y la predicción de random forest \n"
   ]
  },
  {
   "cell_type": "code",
   "execution_count": 37,
   "id": "3da0b336",
   "metadata": {},
   "outputs": [],
   "source": [
    "#Calcular el puntaje (área bajo la curva) de random forest  \n"
   ]
  },
  {
   "cell_type": "markdown",
   "id": "ed57351c-fef1-43a2-abb8-000bb34d9e60",
   "metadata": {},
   "source": [
    "***"
   ]
  },
  {
   "cell_type": "markdown",
   "id": "869d66e8",
   "metadata": {},
   "source": [
    "## <span style=\"color:green\">7. Clasificadores Multiclase</span>\n"
   ]
  },
  {
   "cell_type": "code",
   "execution_count": 38,
   "id": "f3754467",
   "metadata": {},
   "outputs": [],
   "source": [
    "# Importar SVC=Support Vector Classifier\n",
    "\n",
    "\n",
    "\n",
    "#Predecir a un humano aleatorio para ver que todo este funcionando bien \n"
   ]
  },
  {
   "cell_type": "code",
   "execution_count": 39,
   "id": "ea8321ef",
   "metadata": {},
   "outputs": [],
   "source": [
    "#Utilizar decision_function para observar los puntajes de cada medicina \n",
    "\n",
    "#Decidirá por el qué tenga mayor puntaje"
   ]
  },
  {
   "cell_type": "code",
   "execution_count": 40,
   "id": "b254626c",
   "metadata": {},
   "outputs": [],
   "source": [
    "#Ahora, utiliza el clasificador multiclase \n",
    "\n",
    "#Predecir a un humano ahora con este clasificador\n"
   ]
  },
  {
   "cell_type": "code",
   "execution_count": 41,
   "id": "0977941f",
   "metadata": {},
   "outputs": [],
   "source": [
    "#Utilizar decision_function para observar los puntajes de cada medicina \n"
   ]
  },
  {
   "cell_type": "code",
   "execution_count": 42,
   "id": "f62ef031-ec16-45b1-9529-141f2a56fecd",
   "metadata": {},
   "outputs": [],
   "source": [
    "#campararlo con los datos obtenidos de sgd.fit \n"
   ]
  },
  {
   "cell_type": "markdown",
   "id": "01d14327-bb72-4e3d-8dde-e383892136b4",
   "metadata": {},
   "source": [
    "***"
   ]
  },
  {
   "cell_type": "markdown",
   "id": "db247461",
   "metadata": {},
   "source": [
    "## <span style=\"color:green\">8. Analizar Errores</span>"
   ]
  },
  {
   "cell_type": "code",
   "execution_count": 43,
   "id": "2f184f37-4640-4733-8c54-911f7c99ef2f",
   "metadata": {},
   "outputs": [],
   "source": [
    "#Hacer un clasificador de random forest\n"
   ]
  },
  {
   "cell_type": "code",
   "execution_count": 44,
   "id": "fb8f5f40",
   "metadata": {},
   "outputs": [],
   "source": [
    "#Utilizar la matriz de confusión \n"
   ]
  },
  {
   "cell_type": "code",
   "execution_count": 45,
   "id": "3489af35-b3f2-4001-9e2f-67b5696c44f7",
   "metadata": {},
   "outputs": [],
   "source": [
    "#utilizar ahora SGD\n"
   ]
  }
 ],
 "metadata": {
  "kernelspec": {
   "display_name": "Python 3 (ipykernel)",
   "language": "python",
   "name": "python3"
  },
  "language_info": {
   "codemirror_mode": {
    "name": "ipython",
    "version": 3
   },
   "file_extension": ".py",
   "mimetype": "text/x-python",
   "name": "python",
   "nbconvert_exporter": "python",
   "pygments_lexer": "ipython3",
   "version": "3.9.7"
  }
 },
 "nbformat": 4,
 "nbformat_minor": 5
}
